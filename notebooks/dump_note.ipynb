{
 "cells": [
  {
   "cell_type": "code",
   "execution_count": 2,
   "id": "9c634180",
   "metadata": {},
   "outputs": [
    {
     "name": "stdout",
     "output_type": "stream",
     "text": [
      "Database dump successfully completed!!\n"
     ]
    }
   ],
   "source": [
    "import sqlite3\n",
    "import io\n",
    "\n",
    "\n",
    "# con.commit()\n",
    "def get_db_connection():\n",
    "    conn = sqlite3.connect('database.db')\n",
    "    conn.row_factory = sqlite3.Row\n",
    "    return conn\n",
    "\n",
    "\n",
    "def close_db_connection(conn):\n",
    "    conn.close()\n",
    "\n",
    "\n",
    "class Error:\n",
    "    pass\n",
    "\n",
    "\n",
    "def dump():\n",
    "    conn = get_db_connection()\n",
    "    # RUS Сохраняем в файл дамп базы данных (папка dump)\n",
    "    # ENG Save the database dump to a file (dump folder)\n",
    "    with io.open('files/database_dump.sql', 'w') as p:\n",
    "        # iterdump() function\n",
    "        for line in conn.iterdump():\n",
    "            p.write('%s\\n' % line)\n",
    "    print('Database dump successfully completed!!')\n",
    "    conn.close()\n",
    "\n",
    "dump()"
   ]
  },
  {
   "cell_type": "code",
   "execution_count": null,
   "id": "48c10a55",
   "metadata": {},
   "outputs": [],
   "source": []
  },
  {
   "cell_type": "code",
   "execution_count": null,
   "id": "232c9df7",
   "metadata": {},
   "outputs": [],
   "source": []
  }
 ],
 "metadata": {
  "kernelspec": {
   "display_name": "Python 3 (ipykernel)",
   "language": "python",
   "name": "python3"
  },
  "language_info": {
   "codemirror_mode": {
    "name": "ipython",
    "version": 3
   },
   "file_extension": ".py",
   "mimetype": "text/x-python",
   "name": "python",
   "nbconvert_exporter": "python",
   "pygments_lexer": "ipython3",
   "version": "3.11.3"
  }
 },
 "nbformat": 4,
 "nbformat_minor": 5
}
